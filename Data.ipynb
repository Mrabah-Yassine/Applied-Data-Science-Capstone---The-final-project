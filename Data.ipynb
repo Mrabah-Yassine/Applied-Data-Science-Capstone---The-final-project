{
 "cells": [
  {
   "cell_type": "markdown",
   "metadata": {},
   "source": [
    "# 2- Data"
   ]
  },
  {
   "cell_type": "markdown",
   "metadata": {},
   "source": [
    "#### mainly, we need 3 sources to collect this data:\n",
    "#### 1- mean m² price in each arrondissement (neighborhood) extracted from an agency\n",
    "#### 2- The foursquare locational information is our biggest asset, because it provides us all the geographical coordinates (altitudes, longitudes) off all neighborhoods, and also the various categories of venues in each neighborhood. As a result, we will identify areas that contain a lot of restaurants, parks and sports centers, and the new office of the company may be located inside one of the boroughs containing lots of this venues.\n",
    "#### 3- A list of all metro and train stations inside Paris, accessible from wikipedia: https://fr.wikipedia.org/wiki/Liste_des_stations_du_m%C3%A9tro_de_Paris"
   ]
  },
  {
   "cell_type": "code",
   "execution_count": null,
   "metadata": {},
   "outputs": [],
   "source": []
  }
 ],
 "metadata": {
  "kernelspec": {
   "display_name": "Python 3",
   "language": "python",
   "name": "python3"
  },
  "language_info": {
   "codemirror_mode": {
    "name": "ipython",
    "version": 3
   },
   "file_extension": ".py",
   "mimetype": "text/x-python",
   "name": "python",
   "nbconvert_exporter": "python",
   "pygments_lexer": "ipython3",
   "version": "3.6.5"
  }
 },
 "nbformat": 4,
 "nbformat_minor": 2
}
