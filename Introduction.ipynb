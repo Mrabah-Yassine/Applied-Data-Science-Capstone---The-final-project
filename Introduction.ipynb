{
 "cells": [
  {
   "cell_type": "markdown",
   "metadata": {},
   "source": [
    "# 1- Problem description"
   ]
  },
  {
   "cell_type": "markdown",
   "metadata": {},
   "source": [
    "#### At the beginning, we need to introduce our problem. Let's suppose that an IT company wants to open a new office in Paris, France. To make it more clear, Paris has about 20 neighborhoods, also called \"arrondissement\". We already know that Paris is a very dynamic, multicultural city and each year, thousands of new students move to study in its universities and new job seekers also move there for new opportunities. \n",
    "#### This IT company wants to make the right decision, in which part of Paris the new office is going to be established ? \n",
    "#### This choice is going to be based on 4 main criterion:\n",
    "#### 1- The company needs to buy an existant office or make a new one.\n",
    "#### 2- In Paris, most of companies don't have an internal restaurant, so employees have to go to nearby restaurants and spots for lunch.\n",
    "#### 3- The company noticed that most of its employees who are actually working in other offices located outside of city centers are practicing sports after lunch breaks (running in the parks, forests around the office) \n",
    "#### 4- The new office needs to be easily accessed by employees and visitors.\n",
    "\n",
    "#### To do that, this company needs to make a decision by respecting the 4 mentioned criterion above so:\n",
    "#### 1- The company needs to make a good research on the price of a sqaured meter in each neighborhood i Paris.\n",
    "#### 2- The new office needs to be very close to various types of restaurants (multicultural company with employees from various nations and traditions who want to try different meals !! Deal with it ;) )\n",
    "#### 3- The new office needs to be also close to public parks inside Paris or to some sport centers (gym etc...)\n",
    "#### 4- The new office needs also to be close to big metro and train stations, where employees can easily take the public transport when coming to the office in the morning and leaving it by the end of the day. NB: most of the employees live in the suburbs of Paris, not exactly at the center of Paris"
   ]
  },
  {
   "cell_type": "code",
   "execution_count": null,
   "metadata": {},
   "outputs": [],
   "source": []
  }
 ],
 "metadata": {
  "kernelspec": {
   "display_name": "Python 3",
   "language": "python",
   "name": "python3"
  },
  "language_info": {
   "codemirror_mode": {
    "name": "ipython",
    "version": 3
   },
   "file_extension": ".py",
   "mimetype": "text/x-python",
   "name": "python",
   "nbconvert_exporter": "python",
   "pygments_lexer": "ipython3",
   "version": "3.6.5"
  }
 },
 "nbformat": 4,
 "nbformat_minor": 2
}
